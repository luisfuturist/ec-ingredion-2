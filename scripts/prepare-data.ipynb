{
 "cells": [
  {
   "cell_type": "markdown",
   "id": "8c0eb5a9",
   "metadata": {},
   "source": [
    "# FIAP - Challenge Ingredion – SPRINT 2 - Group 16"
   ]
  },
  {
   "cell_type": "markdown",
   "id": "f149daa4",
   "metadata": {},
   "source": [
    "## 1 Preprocessamento de Dados"
   ]
  },
  {
   "cell_type": "markdown",
   "id": "13491270",
   "metadata": {},
   "source": [
    "### 1.1 Importando Bibliotecas"
   ]
  },
  {
   "cell_type": "code",
   "execution_count": 1,
   "id": "0d9826d1",
   "metadata": {},
   "outputs": [],
   "source": [
    "import pandas as pd"
   ]
  },
  {
   "cell_type": "markdown",
   "id": "45b9fe47",
   "metadata": {},
   "source": [
    "### 1.2 Carregando Caminhos dos Dados"
   ]
  },
  {
   "cell_type": "code",
   "execution_count": 2,
   "id": "1b917923",
   "metadata": {},
   "outputs": [],
   "source": [
    "PRODUTIVITY_PATH = \"../data/SIDRA/tabela1613.xlsx\"\n",
    "NDVI_PATH = \"../data/SATVEG/satveg_planilha.xlsx\""
   ]
  },
  {
   "cell_type": "markdown",
   "id": "090c867f",
   "metadata": {},
   "source": [
    "### 1.3 Carregamento e Processamento de Dados de Produção Agrícola\n",
    "\n",
    "Esta célula tem como objetivo processar dados brutos de produção agrícola (em toneladas) do município de Manhuaçu (MG), originalmente organizados em tabelas estáticas onde os anos aparecem como colunas e os municípios como linhas, transformando-os em uma série temporal padronizada. A conversão para quilogramas e a reorganização dos dados garantem um formato adequado para análises temporais integradas, além de tornar explícitas informações antes implícitas, como a relação entre colunas sem nomeação específica que representam anos. Essa padronização permite correlacionar os dados históricos de produção com séries de NDVI e outros indicadores agrícolas, o que é essencial para treinar modelos preditivos de produtividade com base em dados consistentes e normalizados."
   ]
  },
  {
   "cell_type": "code",
   "execution_count": 3,
   "id": "484f1f1c",
   "metadata": {},
   "outputs": [
    {
     "data": {
      "text/html": [
       "<div>\n",
       "<style scoped>\n",
       "    .dataframe tbody tr th:only-of-type {\n",
       "        vertical-align: middle;\n",
       "    }\n",
       "\n",
       "    .dataframe tbody tr th {\n",
       "        vertical-align: top;\n",
       "    }\n",
       "\n",
       "    .dataframe thead th {\n",
       "        text-align: right;\n",
       "    }\n",
       "</style>\n",
       "<table border=\"1\" class=\"dataframe\">\n",
       "  <thead>\n",
       "    <tr style=\"text-align: right;\">\n",
       "      <th></th>\n",
       "      <th>Year</th>\n",
       "      <th>Production (kg)</th>\n",
       "    </tr>\n",
       "  </thead>\n",
       "  <tbody>\n",
       "    <tr>\n",
       "      <th>1</th>\n",
       "      <td>1974</td>\n",
       "      <td>4352000</td>\n",
       "    </tr>\n",
       "    <tr>\n",
       "      <th>2</th>\n",
       "      <td>1975</td>\n",
       "      <td>1308000</td>\n",
       "    </tr>\n",
       "    <tr>\n",
       "      <th>3</th>\n",
       "      <td>1976</td>\n",
       "      <td>2095000</td>\n",
       "    </tr>\n",
       "    <tr>\n",
       "      <th>4</th>\n",
       "      <td>1977</td>\n",
       "      <td>5250000</td>\n",
       "    </tr>\n",
       "    <tr>\n",
       "      <th>5</th>\n",
       "      <td>1978</td>\n",
       "      <td>5153000</td>\n",
       "    </tr>\n",
       "  </tbody>\n",
       "</table>\n",
       "</div>"
      ],
      "text/plain": [
       "   Year Production (kg)\n",
       "1  1974         4352000\n",
       "2  1975         1308000\n",
       "3  1976         2095000\n",
       "4  1977         5250000\n",
       "5  1978         5153000"
      ]
     },
     "execution_count": 3,
     "metadata": {},
     "output_type": "execute_result"
    }
   ],
   "source": [
    "prod_df = pd.read_excel(\n",
    "    PRODUTIVITY_PATH,\n",
    "    sheet_name=\"Quantidade produzida (Tonela...\"\n",
    ")\n",
    "prod_df\n",
    "\n",
    "prod_manhuacu = prod_df[prod_df[\"Tabela 1613 - Área destinada à colheita, área colhida, quantidade produzida, rendimento médio e valor da produção das lavouras permanentes\"] == \"Manhuaçu (MG)\"]\n",
    "\n",
    "year = 1974\n",
    "rename_dict = {}\n",
    "for i in range(50):\n",
    "    col_num = i+1 \n",
    "    rename_dict[f\"Unnamed: {col_num}\"] = year\n",
    "    year += 1\n",
    "\n",
    "prod_manhuacu = prod_manhuacu.rename(columns=rename_dict)\n",
    "prod_manhuacu = prod_manhuacu.transpose()\n",
    "prod_manhuacu = prod_manhuacu.reset_index()\n",
    "prod_manhuacu = prod_manhuacu.iloc[1:, :]\n",
    "prod_manhuacu.columns = [\"Year\", \"Production (ton)\"]\n",
    "prod_manhuacu[\"Production (kg)\"] = 1000 * prod_manhuacu[\"Production (ton)\"]\n",
    "prod_manhuacu = prod_manhuacu.drop(columns=[\"Production (ton)\"])\n",
    "\n",
    "prod_manhuacu.head()"
   ]
  },
  {
   "cell_type": "markdown",
   "id": "d0dec366",
   "metadata": {},
   "source": [
    "### 1.4 Carregamento e Processamento de Dados de Área Agrícola\n",
    "\n",
    "Agora vamos processar os dados de área colhida em hectares do município de Manhuaçu (MG), convertendo uma tabela estática (com anos como colunas e municípios como linhas) em uma série temporal estruturada. A partir da planilha original do IBGE, são filtrados apenas os registros do município alvo, renomeadas as colunas não nomeadas (representando anos de 1974 a 2023) para valores explícitos, e reorganizada a estrutura dos dados por meio de transposição e ajustes de índice. O resultado final é um DataFrame limpo com as colunas \"Year\" e \"Area (ha)\", contendo a área cultivada anual em hectares, pronto para ser cruzado com os dados de produção e permitir o cálculo preciso da produtividade agrícola (kg/ha) ao longo do tempo."
   ]
  },
  {
   "cell_type": "code",
   "execution_count": 4,
   "id": "3ee8c5d0",
   "metadata": {},
   "outputs": [
    {
     "data": {
      "text/html": [
       "<div>\n",
       "<style scoped>\n",
       "    .dataframe tbody tr th:only-of-type {\n",
       "        vertical-align: middle;\n",
       "    }\n",
       "\n",
       "    .dataframe tbody tr th {\n",
       "        vertical-align: top;\n",
       "    }\n",
       "\n",
       "    .dataframe thead th {\n",
       "        text-align: right;\n",
       "    }\n",
       "</style>\n",
       "<table border=\"1\" class=\"dataframe\">\n",
       "  <thead>\n",
       "    <tr style=\"text-align: right;\">\n",
       "      <th></th>\n",
       "      <th>Year</th>\n",
       "      <th>Area (ha)</th>\n",
       "    </tr>\n",
       "  </thead>\n",
       "  <tbody>\n",
       "    <tr>\n",
       "      <th>1</th>\n",
       "      <td>1974</td>\n",
       "      <td>2176</td>\n",
       "    </tr>\n",
       "    <tr>\n",
       "      <th>2</th>\n",
       "      <td>1975</td>\n",
       "      <td>2180</td>\n",
       "    </tr>\n",
       "    <tr>\n",
       "      <th>3</th>\n",
       "      <td>1976</td>\n",
       "      <td>2538</td>\n",
       "    </tr>\n",
       "    <tr>\n",
       "      <th>4</th>\n",
       "      <td>1977</td>\n",
       "      <td>2625</td>\n",
       "    </tr>\n",
       "    <tr>\n",
       "      <th>5</th>\n",
       "      <td>1978</td>\n",
       "      <td>2931</td>\n",
       "    </tr>\n",
       "  </tbody>\n",
       "</table>\n",
       "</div>"
      ],
      "text/plain": [
       "   Year Area (ha)\n",
       "1  1974      2176\n",
       "2  1975      2180\n",
       "3  1976      2538\n",
       "4  1977      2625\n",
       "5  1978      2931"
      ]
     },
     "execution_count": 4,
     "metadata": {},
     "output_type": "execute_result"
    }
   ],
   "source": [
    "area_df = pd.read_excel(\n",
    "    PRODUTIVITY_PATH,\n",
    "    sheet_name=\"Área colhida (Hectares)\"\n",
    ")\n",
    "\n",
    "area_manhuacu = area_df[area_df[\"Tabela 1613 - Área destinada à colheita, área colhida, quantidade produzida, rendimento médio e valor da produção das lavouras permanentes\"] == \"Manhuaçu (MG)\"]\n",
    "\n",
    "year = 1974\n",
    "rename_dict = {}\n",
    "for i in range(50):\n",
    "    col_num = i+1 \n",
    "    rename_dict[f\"Unnamed: {col_num}\"] = year\n",
    "    year += 1\n",
    "\n",
    "area_manhuacu = area_manhuacu.rename(columns=rename_dict)\n",
    "area_manhuacu = area_manhuacu.transpose()\n",
    "area_manhuacu = area_manhuacu.reset_index()\n",
    "area_manhuacu = area_manhuacu.iloc[1:, :]\n",
    "area_manhuacu.columns = [\"Year\", \"Area (ha)\"]\n",
    "\n",
    "area_manhuacu.head()"
   ]
  },
  {
   "cell_type": "markdown",
   "id": "bc569349",
   "metadata": {},
   "source": [
    "### 1.5 Consolidação de Dados Agrícolas\n",
    "\n",
    "Agora vamos criar um dataset unificado contendo produção agrícola (kg) e área cultivada (ha) por ano para Manhuaçu (MG), permitindo o cálculo da produtividade (kg/ha)."
   ]
  },
  {
   "cell_type": "code",
   "execution_count": 5,
   "id": "11df1e61",
   "metadata": {},
   "outputs": [
    {
     "data": {
      "text/html": [
       "<div>\n",
       "<style scoped>\n",
       "    .dataframe tbody tr th:only-of-type {\n",
       "        vertical-align: middle;\n",
       "    }\n",
       "\n",
       "    .dataframe tbody tr th {\n",
       "        vertical-align: top;\n",
       "    }\n",
       "\n",
       "    .dataframe thead th {\n",
       "        text-align: right;\n",
       "    }\n",
       "</style>\n",
       "<table border=\"1\" class=\"dataframe\">\n",
       "  <thead>\n",
       "    <tr style=\"text-align: right;\">\n",
       "      <th></th>\n",
       "      <th>Year</th>\n",
       "      <th>Production (kg)</th>\n",
       "      <th>Area (ha)</th>\n",
       "    </tr>\n",
       "  </thead>\n",
       "  <tbody>\n",
       "    <tr>\n",
       "      <th>0</th>\n",
       "      <td>1974</td>\n",
       "      <td>4352000</td>\n",
       "      <td>2176</td>\n",
       "    </tr>\n",
       "    <tr>\n",
       "      <th>1</th>\n",
       "      <td>1975</td>\n",
       "      <td>1308000</td>\n",
       "      <td>2180</td>\n",
       "    </tr>\n",
       "    <tr>\n",
       "      <th>2</th>\n",
       "      <td>1976</td>\n",
       "      <td>2095000</td>\n",
       "      <td>2538</td>\n",
       "    </tr>\n",
       "    <tr>\n",
       "      <th>3</th>\n",
       "      <td>1977</td>\n",
       "      <td>5250000</td>\n",
       "      <td>2625</td>\n",
       "    </tr>\n",
       "    <tr>\n",
       "      <th>4</th>\n",
       "      <td>1978</td>\n",
       "      <td>5153000</td>\n",
       "      <td>2931</td>\n",
       "    </tr>\n",
       "  </tbody>\n",
       "</table>\n",
       "</div>"
      ],
      "text/plain": [
       "   Year Production (kg) Area (ha)\n",
       "0  1974         4352000      2176\n",
       "1  1975         1308000      2180\n",
       "2  1976         2095000      2538\n",
       "3  1977         5250000      2625\n",
       "4  1978         5153000      2931"
      ]
     },
     "execution_count": 5,
     "metadata": {},
     "output_type": "execute_result"
    }
   ],
   "source": [
    "manhuacu_df = pd.merge(\n",
    "    how=\"inner\",\n",
    "    left=prod_manhuacu,\n",
    "    right=area_manhuacu,\n",
    "    on=\"Year\",\n",
    ")\n",
    "manhuacu_df.head()"
   ]
  },
  {
   "cell_type": "markdown",
   "id": "7cddac5d",
   "metadata": {},
   "source": [
    "### 1.6 Cálculo de Produtividade Agrícola\n",
    "\n",
    "Calcular a produtividade agrícola anual (kg/hectare) de Manhuaçu (MG) a partir dos dados consolidados de produção e área cultivada."
   ]
  },
  {
   "cell_type": "code",
   "execution_count": 6,
   "id": "83eece66",
   "metadata": {},
   "outputs": [
    {
     "data": {
      "text/html": [
       "<div>\n",
       "<style scoped>\n",
       "    .dataframe tbody tr th:only-of-type {\n",
       "        vertical-align: middle;\n",
       "    }\n",
       "\n",
       "    .dataframe tbody tr th {\n",
       "        vertical-align: top;\n",
       "    }\n",
       "\n",
       "    .dataframe thead th {\n",
       "        text-align: right;\n",
       "    }\n",
       "</style>\n",
       "<table border=\"1\" class=\"dataframe\">\n",
       "  <thead>\n",
       "    <tr style=\"text-align: right;\">\n",
       "      <th></th>\n",
       "      <th>Year</th>\n",
       "      <th>Production (kg)</th>\n",
       "      <th>Area (ha)</th>\n",
       "      <th>Productivity (kg/ha)</th>\n",
       "    </tr>\n",
       "  </thead>\n",
       "  <tbody>\n",
       "    <tr>\n",
       "      <th>0</th>\n",
       "      <td>1974</td>\n",
       "      <td>4352000</td>\n",
       "      <td>2176</td>\n",
       "      <td>2000.0</td>\n",
       "    </tr>\n",
       "    <tr>\n",
       "      <th>1</th>\n",
       "      <td>1975</td>\n",
       "      <td>1308000</td>\n",
       "      <td>2180</td>\n",
       "      <td>600.0</td>\n",
       "    </tr>\n",
       "    <tr>\n",
       "      <th>2</th>\n",
       "      <td>1976</td>\n",
       "      <td>2095000</td>\n",
       "      <td>2538</td>\n",
       "      <td>825.453113</td>\n",
       "    </tr>\n",
       "    <tr>\n",
       "      <th>3</th>\n",
       "      <td>1977</td>\n",
       "      <td>5250000</td>\n",
       "      <td>2625</td>\n",
       "      <td>2000.0</td>\n",
       "    </tr>\n",
       "    <tr>\n",
       "      <th>4</th>\n",
       "      <td>1978</td>\n",
       "      <td>5153000</td>\n",
       "      <td>2931</td>\n",
       "      <td>1758.103037</td>\n",
       "    </tr>\n",
       "  </tbody>\n",
       "</table>\n",
       "</div>"
      ],
      "text/plain": [
       "   Year Production (kg) Area (ha) Productivity (kg/ha)\n",
       "0  1974         4352000      2176               2000.0\n",
       "1  1975         1308000      2180                600.0\n",
       "2  1976         2095000      2538           825.453113\n",
       "3  1977         5250000      2625               2000.0\n",
       "4  1978         5153000      2931          1758.103037"
      ]
     },
     "execution_count": 6,
     "metadata": {},
     "output_type": "execute_result"
    }
   ],
   "source": [
    "manhuacu_df[\"Productivity (kg/ha)\"] = manhuacu_df[\"Production (kg)\"] / manhuacu_df[\"Area (ha)\"]\n",
    "manhuacu_df.head()"
   ]
  },
  {
   "cell_type": "markdown",
   "id": "0cdb24a7",
   "metadata": {},
   "source": [
    "### 1.7 Exportando os Dados Processados\n",
    "\n",
    "Persistir o dataset consolidado de produtividade agrícola em formato CSV para uso em etapas posteriores do projeto."
   ]
  },
  {
   "cell_type": "code",
   "execution_count": 7,
   "id": "3e5d9ad2",
   "metadata": {},
   "outputs": [],
   "source": [
    "manhuacu_df.to_csv(\n",
    "    \"../data/PROCESSED/manhuacu.csv\",\n",
    "    index=False,\n",
    ")"
   ]
  },
  {
   "cell_type": "markdown",
   "id": "dbae5483",
   "metadata": {},
   "source": [
    "### 1.8 Processamento de Dados de NDVI\n",
    "\n",
    "Estruturar a série temporal de NDVI (Índice de Vegetação) para integração com os dados agrícolas, garantindo compatibilidade temporal e formato adequado para análise."
   ]
  },
  {
   "cell_type": "code",
   "execution_count": 8,
   "id": "492e8ca6",
   "metadata": {},
   "outputs": [
    {
     "name": "stderr",
     "output_type": "stream",
     "text": [
      "/home/luis/GitHub/fiap/ec-ingredion-2/.venv/lib/python3.13/site-packages/openpyxl/styles/stylesheet.py:237: UserWarning: Workbook contains no default style, apply openpyxl's default\n",
      "  warn(\"Workbook contains no default style, apply openpyxl's default\")\n"
     ]
    },
    {
     "data": {
      "text/html": [
       "<div>\n",
       "<style scoped>\n",
       "    .dataframe tbody tr th:only-of-type {\n",
       "        vertical-align: middle;\n",
       "    }\n",
       "\n",
       "    .dataframe tbody tr th {\n",
       "        vertical-align: top;\n",
       "    }\n",
       "\n",
       "    .dataframe thead th {\n",
       "        text-align: right;\n",
       "    }\n",
       "</style>\n",
       "<table border=\"1\" class=\"dataframe\">\n",
       "  <thead>\n",
       "    <tr style=\"text-align: right;\">\n",
       "      <th></th>\n",
       "      <th>Data</th>\n",
       "      <th>NDVI</th>\n",
       "      <th>Year</th>\n",
       "    </tr>\n",
       "  </thead>\n",
       "  <tbody>\n",
       "    <tr>\n",
       "      <th>0</th>\n",
       "      <td>2000-02-18</td>\n",
       "      <td>0.4925</td>\n",
       "      <td>2000</td>\n",
       "    </tr>\n",
       "    <tr>\n",
       "      <th>1</th>\n",
       "      <td>2000-03-05</td>\n",
       "      <td>0.7898</td>\n",
       "      <td>2000</td>\n",
       "    </tr>\n",
       "    <tr>\n",
       "      <th>2</th>\n",
       "      <td>2000-03-21</td>\n",
       "      <td>0.8125</td>\n",
       "      <td>2000</td>\n",
       "    </tr>\n",
       "    <tr>\n",
       "      <th>3</th>\n",
       "      <td>2000-04-06</td>\n",
       "      <td>0.7585</td>\n",
       "      <td>2000</td>\n",
       "    </tr>\n",
       "    <tr>\n",
       "      <th>4</th>\n",
       "      <td>2000-04-22</td>\n",
       "      <td>0.7437</td>\n",
       "      <td>2000</td>\n",
       "    </tr>\n",
       "  </tbody>\n",
       "</table>\n",
       "</div>"
      ],
      "text/plain": [
       "        Data    NDVI  Year\n",
       "0 2000-02-18  0.4925  2000\n",
       "1 2000-03-05  0.7898  2000\n",
       "2 2000-03-21  0.8125  2000\n",
       "3 2000-04-06  0.7585  2000\n",
       "4 2000-04-22  0.7437  2000"
      ]
     },
     "execution_count": 8,
     "metadata": {},
     "output_type": "execute_result"
    }
   ],
   "source": [
    "NDVI_df = pd.read_excel(\n",
    "    NDVI_PATH,\n",
    "    sheet_name=\"NDVI\",\n",
    "    skiprows=3\n",
    ")\n",
    "\n",
    "NDVI_df = NDVI_df.iloc[:, :2]\n",
    "NDVI_df[\"Data\"] = pd.to_datetime(NDVI_df[\"Data\"], format=\"%d/%m/%Y\")\n",
    "NDVI_df = NDVI_df.sort_values(by=\"Data\", ascending=True)\n",
    "NDVI_df[\"Year\"] = NDVI_df[\"Data\"].dt.year\n",
    "\n",
    "NDVI_df.to_csv(\n",
    "    \"../data/PROCESSED/ndvi.csv\",\n",
    "    index=False,\n",
    ")\n",
    "\n",
    "NDVI_df.head()"
   ]
  }
 ],
 "metadata": {
  "kernelspec": {
   "display_name": ".venv",
   "language": "python",
   "name": "python3"
  },
  "language_info": {
   "codemirror_mode": {
    "name": "ipython",
    "version": 3
   },
   "file_extension": ".py",
   "mimetype": "text/x-python",
   "name": "python",
   "nbconvert_exporter": "python",
   "pygments_lexer": "ipython3",
   "version": "3.13.2"
  }
 },
 "nbformat": 4,
 "nbformat_minor": 5
}

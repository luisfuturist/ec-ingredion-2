{
 "cells": [
  {
   "cell_type": "code",
   "execution_count": 1,
   "id": "5a951937",
   "metadata": {},
   "outputs": [],
   "source": [
    "import ee\n",
    "from dotenv import load_dotenv\n",
    "import os"
   ]
  },
  {
   "cell_type": "code",
   "execution_count": 2,
   "id": "7ec6dd77",
   "metadata": {},
   "outputs": [
    {
     "data": {
      "text/plain": [
       "True"
      ]
     },
     "execution_count": 2,
     "metadata": {},
     "output_type": "execute_result"
    }
   ],
   "source": [
    "load_dotenv()"
   ]
  },
  {
   "cell_type": "code",
   "execution_count": 3,
   "id": "03967552",
   "metadata": {},
   "outputs": [],
   "source": [
    "# Autentica com o Google Earth Engine\n",
    "# Descomente se for a primeira execução\n",
    "# ee.Authenticate()\n"
   ]
  },
  {
   "cell_type": "code",
   "execution_count": 4,
   "id": "4b964044",
   "metadata": {},
   "outputs": [],
   "source": [
    "\n",
    "# Inicializa o Earth Engine\n",
    "ee.Initialize(project=os.environ.get(\"GOOGLE_EARTH_ENGINE_PROJECT_ID\"))\n"
   ]
  },
  {
   "cell_type": "code",
   "execution_count": 5,
   "id": "fefba57a",
   "metadata": {},
   "outputs": [],
   "source": [
    "# Carrega geometria de Minas Gerais (FAO GAUL, nível estadual)\n",
    "mg = (\n",
    "    ee.FeatureCollection(\"FAO/GAUL/2015/level1\")\n",
    "    .filter(ee.Filter.eq(\"ADM1_NAME\", \"Minas Gerais\"))\n",
    "    .filter(ee.Filter.eq(\"ADM0_NAME\", \"Brazil\"))\n",
    "    .geometry()\n",
    ")"
   ]
  },
  {
   "cell_type": "code",
   "execution_count": 6,
   "id": "8dfa0a60",
   "metadata": {},
   "outputs": [
    {
     "name": "stderr",
     "output_type": "stream",
     "text": [
      "/home/bruno/anaconda3/envs/fiap/lib/python3.11/site-packages/ee/deprecation.py:207: DeprecationWarning: \n",
      "\n",
      "Attention required for MODIS/006/MOD13Q1! You are using a deprecated asset.\n",
      "To make sure your code keeps working, please update it.\n",
      "Learn more: https://developers.google.com/earth-engine/datasets/catalog/MODIS_006_MOD13Q1\n",
      "\n",
      "  warnings.warn(warning, category=DeprecationWarning)\n"
     ]
    }
   ],
   "source": [
    "# Seleciona a coleção NDVI do MODIS (250m, 16 dias)\n",
    "ndvi_collection = ee.ImageCollection(\"MODIS/006/MOD13Q1\") \\\n",
    "    .filterBounds(mg) \\\n",
    "    .filterDate(\"2010-01-01\", \"2023-12-31\") \\\n",
    "    .select('NDVI')"
   ]
  },
  {
   "cell_type": "code",
   "execution_count": 7,
   "id": "98dea0ee",
   "metadata": {},
   "outputs": [],
   "source": [
    "# Função para reduzir por média regional e transformar em Feature com data e valor\n",
    "def image_to_feature(img):\n",
    "    mean_dict = img.reduceRegion(\n",
    "        reducer=ee.Reducer.mean(), geometry=mg, scale=250, maxPixels=1e13\n",
    "    )\n",
    "    return ee.Feature(\n",
    "        None, {\"date\": img.date().format(\"YYYY-MM-dd\"), \"ndvi\": mean_dict.get(\"NDVI\")}\n",
    "    )"
   ]
  },
  {
   "cell_type": "code",
   "execution_count": 8,
   "id": "4add2efd",
   "metadata": {},
   "outputs": [],
   "source": [
    "# Aplica a função a todas as imagens\n",
    "ndvi_features = ndvi_collection.map(image_to_feature)"
   ]
  },
  {
   "cell_type": "code",
   "execution_count": 9,
   "id": "be83727d",
   "metadata": {},
   "outputs": [],
   "source": [
    "# Coleta os dados em Python\n",
    "ndvi_list = ndvi_features.getInfo()['features']"
   ]
  },
  {
   "cell_type": "code",
   "execution_count": 12,
   "id": "2c897f7e",
   "metadata": {},
   "outputs": [
    {
     "data": {
      "application/vnd.microsoft.datawrangler.viewer.v0+json": {
       "columns": [
        {
         "name": "index",
         "rawType": "int64",
         "type": "integer"
        },
        {
         "name": "date",
         "rawType": "object",
         "type": "string"
        },
        {
         "name": "ndvi",
         "rawType": "float64",
         "type": "float"
        }
       ],
       "conversionMethod": "pd.DataFrame",
       "ref": "c6c0849a-5f5e-4976-a122-d1f7d31b75c8",
       "rows": [
        [
         "0",
         "2010-01-01",
         "6961.220522935672"
        ],
        [
         "1",
         "2010-01-17",
         "6836.056335072098"
        ],
        [
         "2",
         "2010-02-02",
         "6652.292193324059"
        ],
        [
         "3",
         "2010-02-18",
         "6482.417252916969"
        ],
        [
         "4",
         "2010-03-06",
         "7004.443685752234"
        ],
        [
         "5",
         "2010-03-22",
         "7016.977292596403"
        ],
        [
         "6",
         "2010-04-07",
         "7108.046713142778"
        ],
        [
         "7",
         "2010-04-23",
         "6748.333600572564"
        ],
        [
         "8",
         "2010-05-09",
         "6566.050319187974"
        ],
        [
         "9",
         "2010-05-25",
         "6274.747272433556"
        ],
        [
         "10",
         "2010-06-10",
         "6013.94022421982"
        ],
        [
         "11",
         "2010-06-26",
         "5623.442750569781"
        ],
        [
         "12",
         "2010-07-12",
         "5349.430007329881"
        ],
        [
         "13",
         "2010-07-28",
         "5045.60777006113"
        ],
        [
         "14",
         "2010-08-13",
         "4716.446382857932"
        ],
        [
         "15",
         "2010-08-29",
         "4427.436037282898"
        ],
        [
         "16",
         "2010-09-14",
         "4278.4585215377965"
        ],
        [
         "17",
         "2010-09-30",
         "4763.682232337713"
        ],
        [
         "18",
         "2010-10-16",
         "5226.716732081537"
        ],
        [
         "19",
         "2010-11-01",
         "4802.5575932180855"
        ],
        [
         "20",
         "2010-11-17",
         "6258.678280532696"
        ],
        [
         "21",
         "2010-12-03",
         "6766.600570531467"
        ],
        [
         "22",
         "2010-12-19",
         "6843.860932208779"
        ],
        [
         "23",
         "2011-01-01",
         "6004.070857760625"
        ],
        [
         "24",
         "2011-01-17",
         "7015.519292396089"
        ],
        [
         "25",
         "2011-02-02",
         "6539.838782499025"
        ],
        [
         "26",
         "2011-02-18",
         "6619.75000124364"
        ],
        [
         "27",
         "2011-03-06",
         "5433.752464002256"
        ],
        [
         "28",
         "2011-03-22",
         "6921.115343090058"
        ],
        [
         "29",
         "2011-04-07",
         "6862.890802673954"
        ],
        [
         "30",
         "2011-04-23",
         "6843.467781018389"
        ],
        [
         "31",
         "2011-05-09",
         "6629.387965529973"
        ],
        [
         "32",
         "2011-05-25",
         "6248.612155382056"
        ],
        [
         "33",
         "2011-06-10",
         "5971.49357359602"
        ],
        [
         "34",
         "2011-06-26",
         "5625.515807954251"
        ],
        [
         "35",
         "2011-07-12",
         "5321.99461652287"
        ],
        [
         "36",
         "2011-07-28",
         "5036.708203457621"
        ],
        [
         "37",
         "2011-08-13",
         "4767.596477701042"
        ],
        [
         "38",
         "2011-08-29",
         "4579.888180761454"
        ],
        [
         "39",
         "2011-09-14",
         "4378.837240176301"
        ],
        [
         "40",
         "2011-09-30",
         "4328.125136873513"
        ],
        [
         "41",
         "2011-10-16",
         "5450.963990576211"
        ],
        [
         "42",
         "2011-11-01",
         "5636.271531987684"
        ],
        [
         "43",
         "2011-11-17",
         "4858.596484843599"
        ],
        [
         "44",
         "2011-12-03",
         "5543.3351050860265"
        ],
        [
         "45",
         "2011-12-19",
         "6569.635128704965"
        ],
        [
         "46",
         "2012-01-01",
         "6314.311786171572"
        ],
        [
         "47",
         "2012-01-17",
         "6671.813138660251"
        ],
        [
         "48",
         "2012-02-02",
         "6811.244339571235"
        ],
        [
         "49",
         "2012-02-18",
         "6671.7294626678895"
        ]
       ],
       "shape": {
        "columns": 2,
        "rows": 302
       }
      },
      "text/html": [
       "<div>\n",
       "<style scoped>\n",
       "    .dataframe tbody tr th:only-of-type {\n",
       "        vertical-align: middle;\n",
       "    }\n",
       "\n",
       "    .dataframe tbody tr th {\n",
       "        vertical-align: top;\n",
       "    }\n",
       "\n",
       "    .dataframe thead th {\n",
       "        text-align: right;\n",
       "    }\n",
       "</style>\n",
       "<table border=\"1\" class=\"dataframe\">\n",
       "  <thead>\n",
       "    <tr style=\"text-align: right;\">\n",
       "      <th></th>\n",
       "      <th>date</th>\n",
       "      <th>ndvi</th>\n",
       "    </tr>\n",
       "  </thead>\n",
       "  <tbody>\n",
       "    <tr>\n",
       "      <th>0</th>\n",
       "      <td>2010-01-01</td>\n",
       "      <td>6961.220523</td>\n",
       "    </tr>\n",
       "    <tr>\n",
       "      <th>1</th>\n",
       "      <td>2010-01-17</td>\n",
       "      <td>6836.056335</td>\n",
       "    </tr>\n",
       "    <tr>\n",
       "      <th>2</th>\n",
       "      <td>2010-02-02</td>\n",
       "      <td>6652.292193</td>\n",
       "    </tr>\n",
       "    <tr>\n",
       "      <th>3</th>\n",
       "      <td>2010-02-18</td>\n",
       "      <td>6482.417253</td>\n",
       "    </tr>\n",
       "    <tr>\n",
       "      <th>4</th>\n",
       "      <td>2010-03-06</td>\n",
       "      <td>7004.443686</td>\n",
       "    </tr>\n",
       "    <tr>\n",
       "      <th>...</th>\n",
       "      <td>...</td>\n",
       "      <td>...</td>\n",
       "    </tr>\n",
       "    <tr>\n",
       "      <th>297</th>\n",
       "      <td>2022-12-03</td>\n",
       "      <td>6368.406609</td>\n",
       "    </tr>\n",
       "    <tr>\n",
       "      <th>298</th>\n",
       "      <td>2022-12-19</td>\n",
       "      <td>6033.379263</td>\n",
       "    </tr>\n",
       "    <tr>\n",
       "      <th>299</th>\n",
       "      <td>2023-01-01</td>\n",
       "      <td>6433.541609</td>\n",
       "    </tr>\n",
       "    <tr>\n",
       "      <th>300</th>\n",
       "      <td>2023-01-17</td>\n",
       "      <td>7135.002445</td>\n",
       "    </tr>\n",
       "    <tr>\n",
       "      <th>301</th>\n",
       "      <td>2023-02-02</td>\n",
       "      <td>7318.486174</td>\n",
       "    </tr>\n",
       "  </tbody>\n",
       "</table>\n",
       "<p>302 rows × 2 columns</p>\n",
       "</div>"
      ],
      "text/plain": [
       "           date         ndvi\n",
       "0    2010-01-01  6961.220523\n",
       "1    2010-01-17  6836.056335\n",
       "2    2010-02-02  6652.292193\n",
       "3    2010-02-18  6482.417253\n",
       "4    2010-03-06  7004.443686\n",
       "..          ...          ...\n",
       "297  2022-12-03  6368.406609\n",
       "298  2022-12-19  6033.379263\n",
       "299  2023-01-01  6433.541609\n",
       "300  2023-01-17  7135.002445\n",
       "301  2023-02-02  7318.486174\n",
       "\n",
       "[302 rows x 2 columns]"
      ]
     },
     "execution_count": 12,
     "metadata": {},
     "output_type": "execute_result"
    }
   ],
   "source": [
    "import pandas as pd  # Converte para DataFrame\n",
    "\n",
    "\n",
    "data = [\n",
    "    {\"date\": f[\"properties\"][\"date\"], \"ndvi\": f[\"properties\"][\"ndvi\"]}\n",
    "    for f in ndvi_list\n",
    "]\n",
    "df = pd.DataFrame(data)\n",
    "df"
   ]
  },
  {
   "cell_type": "code",
   "execution_count": 11,
   "id": "74bfb514",
   "metadata": {},
   "outputs": [
    {
     "name": "stdout",
     "output_type": "stream",
     "text": [
      "✅ CSV salvo com sucesso!\n"
     ]
    }
   ],
   "source": [
    "# Exporta como CSV\n",
    "if not os.path.exists(\"../data/GOOGLE_EARTH_ENGINE\"):\n",
    "    os.makedirs(\"../data/GOOGLE_EARTH_ENGINE\")\n",
    "df.to_csv(\"../data/GOOGLE_EARTH_ENGINE/ndvi_minas_gerais.csv\", index=False)\n",
    "print(\"✅ CSV salvo com sucesso!\")"
   ]
  }
 ],
 "metadata": {
  "kernelspec": {
   "display_name": "fiap",
   "language": "python",
   "name": "python3"
  },
  "language_info": {
   "codemirror_mode": {
    "name": "ipython",
    "version": 3
   },
   "file_extension": ".py",
   "mimetype": "text/x-python",
   "name": "python",
   "nbconvert_exporter": "python",
   "pygments_lexer": "ipython3",
   "version": "3.11.9"
  }
 },
 "nbformat": 4,
 "nbformat_minor": 5
}

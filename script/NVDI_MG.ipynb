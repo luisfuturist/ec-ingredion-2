{
 "cells": [
  {
   "cell_type": "code",
   "execution_count": 1,
   "id": "58647ac0",
   "metadata": {},
   "outputs": [],
   "source": [
    "START_DATE = \"1970-01-01\"\n",
    "END_DATE = \"2023-12-31\""
   ]
  },
  {
   "cell_type": "code",
   "execution_count": 2,
   "id": "5a951937",
   "metadata": {},
   "outputs": [],
   "source": [
    "import ee\n",
    "from dotenv import load_dotenv\n",
    "import os"
   ]
  },
  {
   "cell_type": "code",
   "execution_count": 3,
   "id": "7ec6dd77",
   "metadata": {},
   "outputs": [
    {
     "data": {
      "text/plain": [
       "True"
      ]
     },
     "execution_count": 3,
     "metadata": {},
     "output_type": "execute_result"
    }
   ],
   "source": [
    "load_dotenv()"
   ]
  },
  {
   "cell_type": "code",
   "execution_count": 4,
   "id": "03967552",
   "metadata": {},
   "outputs": [],
   "source": [
    "# Autentica com o Google Earth Engine\n",
    "# Descomente se for a primeira execução\n",
    "# ee.Authenticate()\n"
   ]
  },
  {
   "cell_type": "code",
   "execution_count": 5,
   "id": "4b964044",
   "metadata": {},
   "outputs": [],
   "source": [
    "\n",
    "# Inicializa o Earth Engine\n",
    "ee.Initialize(project=os.environ.get(\"GOOGLE_EARTH_ENGINE_PROJECT_ID\"))\n"
   ]
  },
  {
   "cell_type": "code",
   "execution_count": 6,
   "id": "fefba57a",
   "metadata": {},
   "outputs": [],
   "source": [
    "# Carrega geometria de Minas Gerais (FAO GAUL, nível estadual)\n",
    "mg = (\n",
    "    ee.FeatureCollection(\"FAO/GAUL/2015/level1\")\n",
    "    .filter(ee.Filter.eq(\"ADM1_NAME\", \"Minas Gerais\"))\n",
    "    .filter(ee.Filter.eq(\"ADM0_NAME\", \"Brazil\"))\n",
    "    .geometry()\n",
    ")"
   ]
  },
  {
   "cell_type": "code",
   "execution_count": 7,
   "id": "8dfa0a60",
   "metadata": {},
   "outputs": [
    {
     "name": "stderr",
     "output_type": "stream",
     "text": [
      "/home/bruno/anaconda3/envs/fiap/lib/python3.11/site-packages/ee/deprecation.py:207: DeprecationWarning: \n",
      "\n",
      "Attention required for MODIS/006/MOD13Q1! You are using a deprecated asset.\n",
      "To make sure your code keeps working, please update it.\n",
      "Learn more: https://developers.google.com/earth-engine/datasets/catalog/MODIS_006_MOD13Q1\n",
      "\n",
      "  warnings.warn(warning, category=DeprecationWarning)\n"
     ]
    }
   ],
   "source": [
    "# Seleciona a coleção NDVI do MODIS (250m, 16 dias)\n",
    "ndvi_collection = ee.ImageCollection(\"MODIS/006/MOD13Q1\") \\\n",
    "    .filterBounds(mg) \\\n",
    "    .filterDate(START_DATE, END_DATE) \\\n",
    "    .select('NDVI')"
   ]
  },
  {
   "cell_type": "code",
   "execution_count": 8,
   "id": "98dea0ee",
   "metadata": {},
   "outputs": [],
   "source": [
    "# Função para reduzir por média regional e transformar em Feature com data e valor\n",
    "def image_to_feature(img):\n",
    "    mean_dict = img.reduceRegion(\n",
    "        reducer=ee.Reducer.mean(), geometry=mg, scale=250, maxPixels=1e13\n",
    "    )\n",
    "    return ee.Feature(\n",
    "        None, {\"date\": img.date().format(\"YYYY-MM-dd\"), \"ndvi\": mean_dict.get(\"NDVI\")}\n",
    "    )"
   ]
  },
  {
   "cell_type": "code",
   "execution_count": 9,
   "id": "4add2efd",
   "metadata": {},
   "outputs": [],
   "source": [
    "# Aplica a função a todas as imagens\n",
    "ndvi_features = ndvi_collection.map(image_to_feature)"
   ]
  },
  {
   "cell_type": "code",
   "execution_count": 10,
   "id": "be83727d",
   "metadata": {},
   "outputs": [],
   "source": [
    "# Coleta os dados em Python\n",
    "ndvi_list = ndvi_features.getInfo()['features']"
   ]
  },
  {
   "cell_type": "code",
   "execution_count": 14,
   "id": "2c897f7e",
   "metadata": {},
   "outputs": [
    {
     "data": {
      "application/vnd.microsoft.datawrangler.viewer.v0+json": {
       "columns": [
        {
         "name": "index",
         "rawType": "int64",
         "type": "integer"
        },
        {
         "name": "date",
         "rawType": "object",
         "type": "string"
        },
        {
         "name": "ndvi",
         "rawType": "float64",
         "type": "float"
        }
       ],
       "conversionMethod": "pd.DataFrame",
       "ref": "ba9cb21d-ef7b-44b6-8a74-92630e5ad7d6",
       "rows": [
        [
         "0",
         "2000-02-18",
         "0.5412866246193787"
        ],
        [
         "1",
         "2000-03-05",
         "0.6504133435440126"
        ],
        [
         "2",
         "2000-03-21",
         "0.6699724658880798"
        ],
        [
         "3",
         "2000-04-06",
         "0.6798595023733319"
        ],
        [
         "4",
         "2000-04-22",
         "0.6552515410941129"
        ],
        [
         "5",
         "2000-05-08",
         "0.6083064804226648"
        ],
        [
         "6",
         "2000-05-24",
         "0.5820660765936164"
        ],
        [
         "7",
         "2000-06-09",
         "0.5477714033022039"
        ],
        [
         "8",
         "2000-06-25",
         "0.5218046831352294"
        ],
        [
         "9",
         "2000-07-11",
         "0.4972388946835732"
        ],
        [
         "10",
         "2000-07-27",
         "0.46805205110255627"
        ],
        [
         "11",
         "2000-08-12",
         "0.4421242150797143"
        ],
        [
         "12",
         "2000-08-28",
         "0.4179820209150585"
        ],
        [
         "13",
         "2000-09-13",
         "0.4924587513347204"
        ],
        [
         "14",
         "2000-09-29",
         "0.5094486715078128"
        ],
        [
         "15",
         "2000-10-15",
         "0.49275893589295494"
        ],
        [
         "16",
         "2000-10-31",
         "0.43205413273221466"
        ],
        [
         "17",
         "2000-11-16",
         "0.5825999792962683"
        ],
        [
         "18",
         "2000-12-02",
         "0.5220739140887695"
        ],
        [
         "19",
         "2000-12-18",
         "0.6845379082851158"
        ],
        [
         "20",
         "2001-01-01",
         "0.6813909896731717"
        ],
        [
         "21",
         "2001-01-17",
         "0.6695453447801178"
        ],
        [
         "22",
         "2001-02-02",
         "0.6568889389093068"
        ],
        [
         "23",
         "2001-02-18",
         "0.6353234639522911"
        ],
        [
         "24",
         "2001-03-06",
         "0.6666824511525743"
        ],
        [
         "25",
         "2001-03-22",
         "0.6604125075681202"
        ],
        [
         "26",
         "2001-04-07",
         "0.6469612908248324"
        ],
        [
         "27",
         "2001-04-23",
         "0.6116994161053204"
        ],
        [
         "28",
         "2001-05-09",
         "0.5903443504483408"
        ],
        [
         "29",
         "2001-05-25",
         "0.5808687899599985"
        ],
        [
         "30",
         "2001-06-10",
         "0.5236618970416682"
        ],
        [
         "31",
         "2001-06-26",
         "0.5073420274718872"
        ],
        [
         "32",
         "2001-07-12",
         "0.49586031251257734"
        ],
        [
         "33",
         "2001-07-28",
         "0.4705761405967766"
        ],
        [
         "34",
         "2001-08-13",
         "0.43624483447842966"
        ],
        [
         "35",
         "2001-08-29",
         "0.43164843905369843"
        ],
        [
         "36",
         "2001-09-14",
         "0.4182952790381773"
        ],
        [
         "37",
         "2001-09-30",
         "0.4851523579713572"
        ],
        [
         "38",
         "2001-10-16",
         "0.5404545465760497"
        ],
        [
         "39",
         "2001-11-01",
         "0.56288981623813"
        ],
        [
         "40",
         "2001-11-17",
         "0.6114393289243439"
        ],
        [
         "41",
         "2001-12-03",
         "0.6394725596976703"
        ],
        [
         "42",
         "2001-12-19",
         "0.6625441159154988"
        ],
        [
         "43",
         "2002-01-01",
         "0.6137506353693394"
        ],
        [
         "44",
         "2002-01-17",
         "0.6928443743306748"
        ],
        [
         "45",
         "2002-02-02",
         "0.6764306051662278"
        ],
        [
         "46",
         "2002-02-18",
         "0.691164149707721"
        ],
        [
         "47",
         "2002-03-06",
         "0.6819596766828113"
        ],
        [
         "48",
         "2002-03-22",
         "0.6705415068690785"
        ],
        [
         "49",
         "2002-04-07",
         "0.6785203956066076"
        ]
       ],
       "shape": {
        "columns": 2,
        "rows": 529
       }
      },
      "text/html": [
       "<div>\n",
       "<style scoped>\n",
       "    .dataframe tbody tr th:only-of-type {\n",
       "        vertical-align: middle;\n",
       "    }\n",
       "\n",
       "    .dataframe tbody tr th {\n",
       "        vertical-align: top;\n",
       "    }\n",
       "\n",
       "    .dataframe thead th {\n",
       "        text-align: right;\n",
       "    }\n",
       "</style>\n",
       "<table border=\"1\" class=\"dataframe\">\n",
       "  <thead>\n",
       "    <tr style=\"text-align: right;\">\n",
       "      <th></th>\n",
       "      <th>date</th>\n",
       "      <th>ndvi</th>\n",
       "    </tr>\n",
       "  </thead>\n",
       "  <tbody>\n",
       "    <tr>\n",
       "      <th>0</th>\n",
       "      <td>2000-02-18</td>\n",
       "      <td>0.541287</td>\n",
       "    </tr>\n",
       "    <tr>\n",
       "      <th>1</th>\n",
       "      <td>2000-03-05</td>\n",
       "      <td>0.650413</td>\n",
       "    </tr>\n",
       "    <tr>\n",
       "      <th>2</th>\n",
       "      <td>2000-03-21</td>\n",
       "      <td>0.669972</td>\n",
       "    </tr>\n",
       "    <tr>\n",
       "      <th>3</th>\n",
       "      <td>2000-04-06</td>\n",
       "      <td>0.679860</td>\n",
       "    </tr>\n",
       "    <tr>\n",
       "      <th>4</th>\n",
       "      <td>2000-04-22</td>\n",
       "      <td>0.655252</td>\n",
       "    </tr>\n",
       "    <tr>\n",
       "      <th>...</th>\n",
       "      <td>...</td>\n",
       "      <td>...</td>\n",
       "    </tr>\n",
       "    <tr>\n",
       "      <th>524</th>\n",
       "      <td>2022-12-03</td>\n",
       "      <td>0.636841</td>\n",
       "    </tr>\n",
       "    <tr>\n",
       "      <th>525</th>\n",
       "      <td>2022-12-19</td>\n",
       "      <td>0.603338</td>\n",
       "    </tr>\n",
       "    <tr>\n",
       "      <th>526</th>\n",
       "      <td>2023-01-01</td>\n",
       "      <td>0.643354</td>\n",
       "    </tr>\n",
       "    <tr>\n",
       "      <th>527</th>\n",
       "      <td>2023-01-17</td>\n",
       "      <td>0.713500</td>\n",
       "    </tr>\n",
       "    <tr>\n",
       "      <th>528</th>\n",
       "      <td>2023-02-02</td>\n",
       "      <td>0.731849</td>\n",
       "    </tr>\n",
       "  </tbody>\n",
       "</table>\n",
       "<p>529 rows × 2 columns</p>\n",
       "</div>"
      ],
      "text/plain": [
       "           date      ndvi\n",
       "0    2000-02-18  0.541287\n",
       "1    2000-03-05  0.650413\n",
       "2    2000-03-21  0.669972\n",
       "3    2000-04-06  0.679860\n",
       "4    2000-04-22  0.655252\n",
       "..          ...       ...\n",
       "524  2022-12-03  0.636841\n",
       "525  2022-12-19  0.603338\n",
       "526  2023-01-01  0.643354\n",
       "527  2023-01-17  0.713500\n",
       "528  2023-02-02  0.731849\n",
       "\n",
       "[529 rows x 2 columns]"
      ]
     },
     "execution_count": 14,
     "metadata": {},
     "output_type": "execute_result"
    }
   ],
   "source": [
    "import pandas as pd  # Converte para DataFrame\n",
    "\n",
    "\n",
    "data = [\n",
    "    {\"date\": f[\"properties\"][\"date\"], \"ndvi\": f[\"properties\"][\"ndvi\"]}\n",
    "    for f in ndvi_list\n",
    "]\n",
    "df = pd.DataFrame(data)\n",
    "\n",
    "df['ndvi'] = pd.to_numeric(df['ndvi'], errors='coerce') / 10000  # escala 0–1\n",
    "\n",
    "df"
   ]
  },
  {
   "cell_type": "code",
   "execution_count": 12,
   "id": "74bfb514",
   "metadata": {},
   "outputs": [
    {
     "name": "stdout",
     "output_type": "stream",
     "text": [
      "✅ CSV salvo com sucesso!\n"
     ]
    }
   ],
   "source": [
    "# Exporta como CSV\n",
    "if not os.path.exists(\"../data/GOOGLE_EARTH_ENGINE\"):\n",
    "    os.makedirs(\"../data/GOOGLE_EARTH_ENGINE\")\n",
    "df.to_csv(\"../data/GOOGLE_EARTH_ENGINE/ndvi_minas_gerais.csv\", index=False)\n",
    "print(\"✅ CSV salvo com sucesso!\")"
   ]
  }
 ],
 "metadata": {
  "kernelspec": {
   "display_name": "fiap",
   "language": "python",
   "name": "python3"
  },
  "language_info": {
   "codemirror_mode": {
    "name": "ipython",
    "version": 3
   },
   "file_extension": ".py",
   "mimetype": "text/x-python",
   "name": "python",
   "nbconvert_exporter": "python",
   "pygments_lexer": "ipython3",
   "version": "3.11.9"
  }
 },
 "nbformat": 4,
 "nbformat_minor": 5
}

{
 "cells": [
  {
   "cell_type": "markdown",
   "id": "8c0eb5a9",
   "metadata": {},
   "source": [
    "# FIAP - Challenge ingredion – SPRINT 2 - Group 16"
   ]
  },
  {
   "cell_type": "markdown",
   "id": "47c25212",
   "metadata": {},
   "source": [
    "## 1 Introducao"
   ]
  },
  {
   "cell_type": "markdown",
   "id": "fc44afbb",
   "metadata": {},
   "source": [
    "### 1.1 Descricao\n",
    "\n",
    "Este projeto desenvolve um modelo de aprendizado de máquina para previsão de produtividade agrícola na região de Manhuaçu (MG), substituindo métodos tradicionais de análise baseados em estimativas manuais e dados desconectados. Ao integrar imagens de satélite (índice de vegetação NDVI) e dados históricos de produção, o modelo identifica padrões sazonais e relações entre saúde vegetal e produtividade, gerando previsões precisas para auxiliar na tomada de decisões. A solução melhora a eficiência no planejamento agrícola, reduz perdas por fatores ambientais e otimiza a alocação de recursos, sendo adaptável a diferentes culturas e escalável para outras regiões."
   ]
  },
  {
   "cell_type": "markdown",
   "id": "4a0dc290",
   "metadata": {},
   "source": [
    "### 1.2 Principais Benefícios\n",
    " - 🎯 Precisão: Combinação de dados espaciais e temporais para análises robustas\n",
    " - 💡 Decisão Informada: Alertas antecipados sobre variações de produtividade\n",
    " - 🌱 Sustentabilidade: Redução do uso insumos agrícolas através de previsões direcionadas\n",
    " - 📊 Acessível: Modelo leve e compatível com infraestrutura computacional limitada"
   ]
  },
  {
   "cell_type": "markdown",
   "id": "352d0b7c",
   "metadata": {},
   "source": [
    "### 1.3 Membros"
   ]
  },
  {
   "cell_type": "markdown",
   "id": "b3a98d81",
   "metadata": {},
   "source": [
    " - Amandha Nery (RM560030) \n",
    " - Bruno Conterato (RM561048)\n",
    " - Gustavo Castro (RM560831)\n",
    " - Kild Fernandes (RM560615)\n",
    " - Luis Emidio (RM559976)"
   ]
  },
  {
   "cell_type": "markdown",
   "id": "cd1ff046",
   "metadata": {},
   "source": [
    "# 2. Visão Geral do Projeto"
   ]
  },
  {
   "cell_type": "markdown",
   "id": "71e95ba8",
   "metadata": {},
   "source": [
    "### 2.1 Objetivos do Projeto\n",
    "\n",
    "O objetivo principal deste projeto é desenvolver e validar um modelo de IA para previsão de produtividade agrícola na região de Manhuaçu (MG), integrando dados históricos de produção (IBGE) e séries temporais de NDVI (SATVEG/INPE). Busca-se:"
   ]
  },
  {
   "cell_type": "markdown",
   "id": "e3632342",
   "metadata": {},
   "source": [
    "### Alta Precisão Preditiva\n",
    " - Atingir um erro absoluto médio percentual (MAPE) inferior a 15% em dados de validação.\n",
    " - Identificar relações estatísticas entre variações do NDVI e produtividade agrícola."
   ]
  },
  {
   "cell_type": "markdown",
   "id": "fb0989a7",
   "metadata": {},
   "source": [
    "### Automação de Análises:\n",
    " - Substituir análises manuais de séries temporais por um pipeline reprodutível.\n",
    " - Gerar alertas antecipados para anomalias sazonais."
   ]
  },
  {
   "cell_type": "markdown",
   "id": "f9a13f10",
   "metadata": {},
   "source": [
    "### Comparação de Abordagens:\n",
    " - Avaliar o desempenho de algoritmos clássicos (Regressão Linear, Random Forest) e redes neurais.\n",
    " - Definir a arquitetura ideal para o contexto de dados agrícolas escassos."
   ]
  },
  {
   "cell_type": "markdown",
   "id": "b7c859a8",
   "metadata": {},
   "source": [
    "### Base de Dados:\n",
    " - Dados de produção (1974–2023): IBGE/Tabela 1613\n",
    " - Série NDVI (2000–2023): SATVEG/INPE"
   ]
  },
  {
   "cell_type": "markdown",
   "id": "6a517572",
   "metadata": {},
   "source": [
    "# 2.2 Público-Alvo\n",
    "\n",
    "### Beneficiários Diretos:\n",
    " - Cooperativas Agrícolas da Região de Manhuaçu (MG):\n",
    "   - Planejamento de safras com base em previsões quantitativas.\n",
    "\n",
    "   - Otimização de investimentos em insumos (fertilizantes, irrigação).\n",
    "\n",
    " - Produtores Rurais:\n",
    "   - Acesso a métricas preditivas para tomada de decisão em cultivos perenes (café, frutíferas).\n",
    "\n",
    " - Beneficiários Indiretos:\n",
    "   - Agências Governamentais (EMATER, CONAB):\n",
    "   - Subsídios para políticas de segurança alimentar e gestão de riscos climáticos.\n",
    " - Pesquisadores em Agricultura Digital:\n",
    "   - Framework replicável para estudos em outras culturas/regiões."
   ]
  },
  {
   "cell_type": "markdown",
   "id": "0aee7aca",
   "metadata": {},
   "source": [
    "# 3. Metodologia\n",
    "\n",
    "Este projeto adota uma metodologia baseada no CRISP-DM (Cross-Industry Standard Process for Data Mining), adaptada para problemas de séries temporais e aprendizado profundo. O fluxo abrange:\n",
    "\n",
    " - Definição do problema (previsão de produtividade agrícola) e identificação de requisitos com stakeholders.\n",
    " - Coleta de dados históricos (IBGE) e NDVI (SATVEG), análise exploratória e identificação de sazonalidades.\n",
    " - Normalização, codificação cíclica de datas e criação de janelas temporais (data_preprocessing.ipynb).\n",
    " - Treinamento comparativo de MLP e LSTM com PyTorch (prediction.ipynb).\n",
    " - Validação com métricas de erro (MSE) e análise qualitativa das previsões.\n",
    " - Futuro: Integração do modelo em sistemas de apoio à decisão para agricultores."
   ]
  },
  {
   "cell_type": "markdown",
   "id": "18c901f7",
   "metadata": {},
   "source": [
    "# 4 Sobre o Desenvolvimento\n",
    "\n",
    "### 4.1 Tecnologias Utilizadas\n",
    " - Categoria\tFerramentas\n",
    " - Linguagem\tPython 3.9+\n",
    " - Manipulação de Dados\tPandas, NumPy\n",
    " - Visualização\tMatplotlib\n",
    " - Aprendizado Profundo\tPyTorch\n",
    " - Pré-processamento\tScikit-learn (StandardScaler)\n",
    " - Ambiente\tJupyter Notebook, CUDA (GPU)"
   ]
  },
  {
   "cell_type": "markdown",
   "id": "48dc29bd",
   "metadata": {},
   "source": [
    "### 4.2 Modelagem e Algoritmos\n",
    "\n",
    "Abordagens Implementadas\n",
    "\n",
    "Foram desenvolvidas e comparadas duas arquiteturas de redes neurais profundas, cada uma com características específicas para o problema de previsão de produtividade agrícola:\n",
    "\n",
    "MLP (Multilayer Perceptron)\tRede neural densa para capturar padrões não lineares.\t- Camadas ocultas: 32 → 16 neurônios\n",
    " - Função de ativação: ReLU + Tanh amplificada\n",
    " - Janela temporal: 5 observações\n",
    "\n",
    "LSTM (Long Short-Term Memory)\tRede recorrente para dependências temporais de longo prazo.\t- Camadas LSTM: 2\n",
    " - Neurônios ocultos: 32\n",
    " - Janela temporal: 20 observações\n",
    "\n",
    "Critério de Escolha:\n",
    " - MLP: Simplicidade e eficiência para padrões anuais.\n",
    " - LSTM: Capacidade de memorizar variações sazonais complexas."
   ]
  },
  {
   "cell_type": "markdown",
   "id": "f149daa4",
   "metadata": {},
   "source": [
    "# 5 Importando Bibliotecas"
   ]
  },
  {
   "cell_type": "code",
   "execution_count": 2,
   "id": "0d9826d1",
   "metadata": {},
   "outputs": [],
   "source": [
    "import pandas as pd"
   ]
  },
  {
   "cell_type": "markdown",
   "id": "45b9fe47",
   "metadata": {},
   "source": [
    "### 5.1 Explorando os dados e carregando o conjunto de dados"
   ]
  },
  {
   "cell_type": "code",
   "execution_count": 3,
   "id": "1b917923",
   "metadata": {},
   "outputs": [],
   "source": [
    "PRODUTIVITY_PATH = \"../data/SIDRA/tabela1613.xlsx\"\n",
    "NDVI_PATH = \"../data/SATVEG/satveg_planilha.xlsx\""
   ]
  },
  {
   "cell_type": "markdown",
   "id": "090c867f",
   "metadata": {},
   "source": [
    "### 5.2 Carregamento e Processamento de Dados de Produção Agrícola\n",
    "\n",
    "Esta célula tem como objetivo processar dados brutos de produção agrícola (em toneladas) do município de Manhuaçu (MG), originalmente organizados em tabelas estáticas onde os anos aparecem como colunas e os municípios como linhas, transformando-os em uma série temporal padronizada. A conversão para quilogramas e a reorganização dos dados garantem um formato adequado para análises temporais integradas, além de tornar explícitas informações antes implícitas, como a relação entre colunas sem nomeação específica que representam anos. Essa padronização permite correlacionar os dados históricos de produção com séries de NDVI e outros indicadores agrícolas, o que é essencial para treinar modelos preditivos de produtividade com base em dados consistentes e normalizados."
   ]
  },
  {
   "cell_type": "code",
   "execution_count": 4,
   "id": "484f1f1c",
   "metadata": {},
   "outputs": [
    {
     "data": {
      "text/html": [
       "<div>\n",
       "<style scoped>\n",
       "    .dataframe tbody tr th:only-of-type {\n",
       "        vertical-align: middle;\n",
       "    }\n",
       "\n",
       "    .dataframe tbody tr th {\n",
       "        vertical-align: top;\n",
       "    }\n",
       "\n",
       "    .dataframe thead th {\n",
       "        text-align: right;\n",
       "    }\n",
       "</style>\n",
       "<table border=\"1\" class=\"dataframe\">\n",
       "  <thead>\n",
       "    <tr style=\"text-align: right;\">\n",
       "      <th></th>\n",
       "      <th>Year</th>\n",
       "      <th>Production (kg)</th>\n",
       "    </tr>\n",
       "  </thead>\n",
       "  <tbody>\n",
       "    <tr>\n",
       "      <th>1</th>\n",
       "      <td>1974</td>\n",
       "      <td>4352000</td>\n",
       "    </tr>\n",
       "    <tr>\n",
       "      <th>2</th>\n",
       "      <td>1975</td>\n",
       "      <td>1308000</td>\n",
       "    </tr>\n",
       "    <tr>\n",
       "      <th>3</th>\n",
       "      <td>1976</td>\n",
       "      <td>2095000</td>\n",
       "    </tr>\n",
       "    <tr>\n",
       "      <th>4</th>\n",
       "      <td>1977</td>\n",
       "      <td>5250000</td>\n",
       "    </tr>\n",
       "    <tr>\n",
       "      <th>5</th>\n",
       "      <td>1978</td>\n",
       "      <td>5153000</td>\n",
       "    </tr>\n",
       "  </tbody>\n",
       "</table>\n",
       "</div>"
      ],
      "text/plain": [
       "   Year Production (kg)\n",
       "1  1974         4352000\n",
       "2  1975         1308000\n",
       "3  1976         2095000\n",
       "4  1977         5250000\n",
       "5  1978         5153000"
      ]
     },
     "execution_count": 4,
     "metadata": {},
     "output_type": "execute_result"
    }
   ],
   "source": [
    "prod_df = pd.read_excel(\n",
    "    PRODUTIVITY_PATH,\n",
    "    sheet_name=\"Quantidade produzida (Tonela...\"\n",
    ")\n",
    "prod_df\n",
    "\n",
    "prod_manhuacu = prod_df[prod_df[\"Tabela 1613 - Área destinada à colheita, área colhida, quantidade produzida, rendimento médio e valor da produção das lavouras permanentes\"] == \"Manhuaçu (MG)\"]\n",
    "\n",
    "year = 1974\n",
    "rename_dict = {}\n",
    "for i in range(50):\n",
    "    col_num = i+1 \n",
    "    rename_dict[f\"Unnamed: {col_num}\"] = year\n",
    "    year += 1\n",
    "\n",
    "prod_manhuacu = prod_manhuacu.rename(columns=rename_dict)\n",
    "prod_manhuacu = prod_manhuacu.transpose()\n",
    "prod_manhuacu = prod_manhuacu.reset_index()\n",
    "prod_manhuacu = prod_manhuacu.iloc[1:, :]\n",
    "prod_manhuacu.columns = [\"Year\", \"Production (ton)\"]\n",
    "prod_manhuacu[\"Production (kg)\"] = 1000 * prod_manhuacu[\"Production (ton)\"]\n",
    "prod_manhuacu = prod_manhuacu.drop(columns=[\"Production (ton)\"])\n",
    "\n",
    "prod_manhuacu.head()"
   ]
  },
  {
   "cell_type": "markdown",
   "id": "d0dec366",
   "metadata": {},
   "source": [
    "### 5.3 Carregamento e Processamento de Dados de Produção Agrícola\n",
    "\n",
    "Agora vamos processar os dados de área colhida em hectares do município de Manhuaçu (MG), convertendo uma tabela estática (com anos como colunas e municípios como linhas) em uma série temporal estruturada. A partir da planilha original do IBGE, são filtrados apenas os registros do município alvo, renomeadas as colunas não nomeadas (representando anos de 1974 a 2023) para valores explícitos, e reorganizada a estrutura dos dados por meio de transposição e ajustes de índice. O resultado final é um DataFrame limpo com as colunas \"Year\" e \"Area (ha)\", contendo a área cultivada anual em hectares, pronto para ser cruzado com os dados de produção e permitir o cálculo preciso da produtividade agrícola (kg/ha) ao longo do tempo."
   ]
  },
  {
   "cell_type": "code",
   "execution_count": 5,
   "id": "3ee8c5d0",
   "metadata": {},
   "outputs": [
    {
     "data": {
      "text/html": [
       "<div>\n",
       "<style scoped>\n",
       "    .dataframe tbody tr th:only-of-type {\n",
       "        vertical-align: middle;\n",
       "    }\n",
       "\n",
       "    .dataframe tbody tr th {\n",
       "        vertical-align: top;\n",
       "    }\n",
       "\n",
       "    .dataframe thead th {\n",
       "        text-align: right;\n",
       "    }\n",
       "</style>\n",
       "<table border=\"1\" class=\"dataframe\">\n",
       "  <thead>\n",
       "    <tr style=\"text-align: right;\">\n",
       "      <th></th>\n",
       "      <th>Year</th>\n",
       "      <th>Area (ha)</th>\n",
       "    </tr>\n",
       "  </thead>\n",
       "  <tbody>\n",
       "    <tr>\n",
       "      <th>1</th>\n",
       "      <td>1974</td>\n",
       "      <td>2176</td>\n",
       "    </tr>\n",
       "    <tr>\n",
       "      <th>2</th>\n",
       "      <td>1975</td>\n",
       "      <td>2180</td>\n",
       "    </tr>\n",
       "    <tr>\n",
       "      <th>3</th>\n",
       "      <td>1976</td>\n",
       "      <td>2538</td>\n",
       "    </tr>\n",
       "    <tr>\n",
       "      <th>4</th>\n",
       "      <td>1977</td>\n",
       "      <td>2625</td>\n",
       "    </tr>\n",
       "    <tr>\n",
       "      <th>5</th>\n",
       "      <td>1978</td>\n",
       "      <td>2931</td>\n",
       "    </tr>\n",
       "  </tbody>\n",
       "</table>\n",
       "</div>"
      ],
      "text/plain": [
       "   Year Area (ha)\n",
       "1  1974      2176\n",
       "2  1975      2180\n",
       "3  1976      2538\n",
       "4  1977      2625\n",
       "5  1978      2931"
      ]
     },
     "execution_count": 5,
     "metadata": {},
     "output_type": "execute_result"
    }
   ],
   "source": [
    "area_df = pd.read_excel(\n",
    "    PRODUTIVITY_PATH,\n",
    "    sheet_name=\"Área colhida (Hectares)\"\n",
    ")\n",
    "\n",
    "area_manhuacu = area_df[area_df[\"Tabela 1613 - Área destinada à colheita, área colhida, quantidade produzida, rendimento médio e valor da produção das lavouras permanentes\"] == \"Manhuaçu (MG)\"]\n",
    "\n",
    "year = 1974\n",
    "rename_dict = {}\n",
    "for i in range(50):\n",
    "    col_num = i+1 \n",
    "    rename_dict[f\"Unnamed: {col_num}\"] = year\n",
    "    year += 1\n",
    "\n",
    "area_manhuacu = area_manhuacu.rename(columns=rename_dict)\n",
    "area_manhuacu = area_manhuacu.transpose()\n",
    "area_manhuacu = area_manhuacu.reset_index()\n",
    "area_manhuacu = area_manhuacu.iloc[1:, :]\n",
    "area_manhuacu.columns = [\"Year\", \"Area (ha)\"]\n",
    "\n",
    "area_manhuacu.head()"
   ]
  },
  {
   "cell_type": "markdown",
   "id": "bc569349",
   "metadata": {},
   "source": [
    "### 5.4 Consolidação de Dados Agrícolas\n",
    "\n",
    "Agora vamos criar um dataset unificado contendo produção agrícola (kg) e área cultivada (ha) por ano para Manhuaçu (MG), permitindo o cálculo da produtividade (kg/ha)."
   ]
  },
  {
   "cell_type": "code",
   "execution_count": 6,
   "id": "11df1e61",
   "metadata": {},
   "outputs": [
    {
     "data": {
      "text/html": [
       "<div>\n",
       "<style scoped>\n",
       "    .dataframe tbody tr th:only-of-type {\n",
       "        vertical-align: middle;\n",
       "    }\n",
       "\n",
       "    .dataframe tbody tr th {\n",
       "        vertical-align: top;\n",
       "    }\n",
       "\n",
       "    .dataframe thead th {\n",
       "        text-align: right;\n",
       "    }\n",
       "</style>\n",
       "<table border=\"1\" class=\"dataframe\">\n",
       "  <thead>\n",
       "    <tr style=\"text-align: right;\">\n",
       "      <th></th>\n",
       "      <th>Year</th>\n",
       "      <th>Production (kg)</th>\n",
       "      <th>Area (ha)</th>\n",
       "    </tr>\n",
       "  </thead>\n",
       "  <tbody>\n",
       "    <tr>\n",
       "      <th>0</th>\n",
       "      <td>1974</td>\n",
       "      <td>4352000</td>\n",
       "      <td>2176</td>\n",
       "    </tr>\n",
       "    <tr>\n",
       "      <th>1</th>\n",
       "      <td>1975</td>\n",
       "      <td>1308000</td>\n",
       "      <td>2180</td>\n",
       "    </tr>\n",
       "    <tr>\n",
       "      <th>2</th>\n",
       "      <td>1976</td>\n",
       "      <td>2095000</td>\n",
       "      <td>2538</td>\n",
       "    </tr>\n",
       "    <tr>\n",
       "      <th>3</th>\n",
       "      <td>1977</td>\n",
       "      <td>5250000</td>\n",
       "      <td>2625</td>\n",
       "    </tr>\n",
       "    <tr>\n",
       "      <th>4</th>\n",
       "      <td>1978</td>\n",
       "      <td>5153000</td>\n",
       "      <td>2931</td>\n",
       "    </tr>\n",
       "  </tbody>\n",
       "</table>\n",
       "</div>"
      ],
      "text/plain": [
       "   Year Production (kg) Area (ha)\n",
       "0  1974         4352000      2176\n",
       "1  1975         1308000      2180\n",
       "2  1976         2095000      2538\n",
       "3  1977         5250000      2625\n",
       "4  1978         5153000      2931"
      ]
     },
     "execution_count": 6,
     "metadata": {},
     "output_type": "execute_result"
    }
   ],
   "source": [
    "manhuacu_df = pd.merge(\n",
    "    how=\"inner\",\n",
    "    left=prod_manhuacu,\n",
    "    right=area_manhuacu,\n",
    "    on=\"Year\",\n",
    ")\n",
    "manhuacu_df.head()"
   ]
  },
  {
   "cell_type": "markdown",
   "id": "7cddac5d",
   "metadata": {},
   "source": [
    "### 5.5 Cálculo de Produtividade Agrícola\n",
    "\n",
    "Calcular a produtividade agrícola anual (kg/hectare) de Manhuaçu (MG) a partir dos dados consolidados de produção e área cultivada."
   ]
  },
  {
   "cell_type": "code",
   "execution_count": 7,
   "id": "83eece66",
   "metadata": {},
   "outputs": [
    {
     "data": {
      "text/html": [
       "<div>\n",
       "<style scoped>\n",
       "    .dataframe tbody tr th:only-of-type {\n",
       "        vertical-align: middle;\n",
       "    }\n",
       "\n",
       "    .dataframe tbody tr th {\n",
       "        vertical-align: top;\n",
       "    }\n",
       "\n",
       "    .dataframe thead th {\n",
       "        text-align: right;\n",
       "    }\n",
       "</style>\n",
       "<table border=\"1\" class=\"dataframe\">\n",
       "  <thead>\n",
       "    <tr style=\"text-align: right;\">\n",
       "      <th></th>\n",
       "      <th>Year</th>\n",
       "      <th>Production (kg)</th>\n",
       "      <th>Area (ha)</th>\n",
       "      <th>Productivity (kg/ha)</th>\n",
       "    </tr>\n",
       "  </thead>\n",
       "  <tbody>\n",
       "    <tr>\n",
       "      <th>0</th>\n",
       "      <td>1974</td>\n",
       "      <td>4352000</td>\n",
       "      <td>2176</td>\n",
       "      <td>2000.0</td>\n",
       "    </tr>\n",
       "    <tr>\n",
       "      <th>1</th>\n",
       "      <td>1975</td>\n",
       "      <td>1308000</td>\n",
       "      <td>2180</td>\n",
       "      <td>600.0</td>\n",
       "    </tr>\n",
       "    <tr>\n",
       "      <th>2</th>\n",
       "      <td>1976</td>\n",
       "      <td>2095000</td>\n",
       "      <td>2538</td>\n",
       "      <td>825.453113</td>\n",
       "    </tr>\n",
       "    <tr>\n",
       "      <th>3</th>\n",
       "      <td>1977</td>\n",
       "      <td>5250000</td>\n",
       "      <td>2625</td>\n",
       "      <td>2000.0</td>\n",
       "    </tr>\n",
       "    <tr>\n",
       "      <th>4</th>\n",
       "      <td>1978</td>\n",
       "      <td>5153000</td>\n",
       "      <td>2931</td>\n",
       "      <td>1758.103037</td>\n",
       "    </tr>\n",
       "  </tbody>\n",
       "</table>\n",
       "</div>"
      ],
      "text/plain": [
       "   Year Production (kg) Area (ha) Productivity (kg/ha)\n",
       "0  1974         4352000      2176               2000.0\n",
       "1  1975         1308000      2180                600.0\n",
       "2  1976         2095000      2538           825.453113\n",
       "3  1977         5250000      2625               2000.0\n",
       "4  1978         5153000      2931          1758.103037"
      ]
     },
     "execution_count": 7,
     "metadata": {},
     "output_type": "execute_result"
    }
   ],
   "source": [
    "manhuacu_df[\"Productivity (kg/ha)\"] = manhuacu_df[\"Production (kg)\"] / manhuacu_df[\"Area (ha)\"]\n",
    "manhuacu_df.head()"
   ]
  },
  {
   "cell_type": "markdown",
   "id": "0cdb24a7",
   "metadata": {},
   "source": [
    "### 5.6 Exportação dos Dados Processados\n",
    "\n",
    "Persistir o dataset consolidado de produtividade agrícola em formato CSV para uso em etapas posteriores do projeto."
   ]
  },
  {
   "cell_type": "code",
   "execution_count": 8,
   "id": "3e5d9ad2",
   "metadata": {},
   "outputs": [],
   "source": [
    "manhuacu_df.to_csv(\n",
    "    \"../data/PROCESSED/manhuacu.csv\",\n",
    "    index=False,\n",
    ")"
   ]
  },
  {
   "cell_type": "markdown",
   "id": "dbae5483",
   "metadata": {},
   "source": [
    "### 5.7 Processamento de Dados de NDVI\n",
    "\n",
    "Estruturar a série temporal de NDVI (Índice de Vegetação) para integração com os dados agrícolas, garantindo compatibilidade temporal e formato adequado para análise."
   ]
  },
  {
   "cell_type": "code",
   "execution_count": 9,
   "id": "492e8ca6",
   "metadata": {},
   "outputs": [
    {
     "name": "stderr",
     "output_type": "stream",
     "text": [
      "/home/kild/Documents/Projects/fiap/ec-ingredion-2/.venv/lib/python3.12/site-packages/openpyxl/styles/stylesheet.py:237: UserWarning: Workbook contains no default style, apply openpyxl's default\n",
      "  warn(\"Workbook contains no default style, apply openpyxl's default\")\n"
     ]
    },
    {
     "data": {
      "text/html": [
       "<div>\n",
       "<style scoped>\n",
       "    .dataframe tbody tr th:only-of-type {\n",
       "        vertical-align: middle;\n",
       "    }\n",
       "\n",
       "    .dataframe tbody tr th {\n",
       "        vertical-align: top;\n",
       "    }\n",
       "\n",
       "    .dataframe thead th {\n",
       "        text-align: right;\n",
       "    }\n",
       "</style>\n",
       "<table border=\"1\" class=\"dataframe\">\n",
       "  <thead>\n",
       "    <tr style=\"text-align: right;\">\n",
       "      <th></th>\n",
       "      <th>Data</th>\n",
       "      <th>NDVI</th>\n",
       "      <th>Year</th>\n",
       "    </tr>\n",
       "  </thead>\n",
       "  <tbody>\n",
       "    <tr>\n",
       "      <th>0</th>\n",
       "      <td>2000-02-18</td>\n",
       "      <td>0.4925</td>\n",
       "      <td>2000</td>\n",
       "    </tr>\n",
       "    <tr>\n",
       "      <th>1</th>\n",
       "      <td>2000-03-05</td>\n",
       "      <td>0.7898</td>\n",
       "      <td>2000</td>\n",
       "    </tr>\n",
       "    <tr>\n",
       "      <th>2</th>\n",
       "      <td>2000-03-21</td>\n",
       "      <td>0.8125</td>\n",
       "      <td>2000</td>\n",
       "    </tr>\n",
       "    <tr>\n",
       "      <th>3</th>\n",
       "      <td>2000-04-06</td>\n",
       "      <td>0.7585</td>\n",
       "      <td>2000</td>\n",
       "    </tr>\n",
       "    <tr>\n",
       "      <th>4</th>\n",
       "      <td>2000-04-22</td>\n",
       "      <td>0.7437</td>\n",
       "      <td>2000</td>\n",
       "    </tr>\n",
       "  </tbody>\n",
       "</table>\n",
       "</div>"
      ],
      "text/plain": [
       "        Data    NDVI  Year\n",
       "0 2000-02-18  0.4925  2000\n",
       "1 2000-03-05  0.7898  2000\n",
       "2 2000-03-21  0.8125  2000\n",
       "3 2000-04-06  0.7585  2000\n",
       "4 2000-04-22  0.7437  2000"
      ]
     },
     "execution_count": 9,
     "metadata": {},
     "output_type": "execute_result"
    }
   ],
   "source": [
    "NDVI_df = pd.read_excel(\n",
    "    NDVI_PATH,\n",
    "    sheet_name=\"NDVI\",\n",
    "    skiprows=3\n",
    ")\n",
    "\n",
    "NDVI_df = NDVI_df.iloc[:, :2]\n",
    "NDVI_df[\"Data\"] = pd.to_datetime(NDVI_df[\"Data\"], format=\"%d/%m/%Y\")\n",
    "NDVI_df = NDVI_df.sort_values(by=\"Data\", ascending=True)\n",
    "NDVI_df[\"Year\"] = NDVI_df[\"Data\"].dt.year\n",
    "\n",
    "NDVI_df.to_csv(\n",
    "    \"../data/PROCESSED/ndvi.csv\",\n",
    "    index=False,\n",
    ")\n",
    "\n",
    "NDVI_df.head()"
   ]
  }
 ],
 "metadata": {
  "kernelspec": {
   "display_name": ".venv",
   "language": "python",
   "name": "python3"
  },
  "language_info": {
   "codemirror_mode": {
    "name": "ipython",
    "version": 3
   },
   "file_extension": ".py",
   "mimetype": "text/x-python",
   "name": "python",
   "nbconvert_exporter": "python",
   "pygments_lexer": "ipython3",
   "version": "3.12.1"
  }
 },
 "nbformat": 4,
 "nbformat_minor": 5
}

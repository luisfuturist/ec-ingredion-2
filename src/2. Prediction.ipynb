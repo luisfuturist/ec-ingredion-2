{
 "cells": [
  {
   "cell_type": "code",
   "execution_count": null,
   "id": "376854e9",
   "metadata": {},
   "outputs": [],
   "source": [
    "import pandas as pd\n",
    "import numpy as np\n",
    "\n",
    "import torch\n",
    "import torch.nn as nn\n",
    "import torch.nn.functional as F\n",
    "import torch.optim as optim\n",
    "\n",
    "torch.manual_seed(1)\n",
    "device = torch.device(\"cuda\" if torch.cuda.is_available() else \"cpu\")\n",
    "device"
   ]
  },
  {
   "cell_type": "code",
   "execution_count": null,
   "id": "df594f5e",
   "metadata": {},
   "outputs": [],
   "source": [
    "NDVI_PATH = \"../data/PROCESSED/ndvi.csv\"\n",
    "PROD_PATH = \"../data/PROCESSED/manhuacu.csv\""
   ]
  },
  {
   "cell_type": "markdown",
   "id": "a26ca232",
   "metadata": {},
   "source": [
    "## 1. Load Data"
   ]
  },
  {
   "cell_type": "code",
   "execution_count": null,
   "id": "e97009c9",
   "metadata": {},
   "outputs": [],
   "source": [
    "NDVI = pd.read_csv(NDVI_PATH)\n",
    "\n",
    "NDVI[\"N_Observations\"] = NDVI.groupby(\"Year\")[\"Data\"].transform(\"count\")\n",
    "\n",
    "NDVI"
   ]
  },
  {
   "cell_type": "code",
   "execution_count": null,
   "id": "c54cc1dc",
   "metadata": {},
   "outputs": [],
   "source": [
    "PROD = pd.read_csv(PROD_PATH)\n",
    "PROD = PROD[PROD[\"Year\"] >= 2000]\n",
    "PROD"
   ]
  },
  {
   "cell_type": "markdown",
   "id": "b2990c40",
   "metadata": {},
   "source": [
    "## 2. Prepare Data"
   ]
  },
  {
   "cell_type": "code",
   "execution_count": null,
   "id": "a6ecfa2b",
   "metadata": {},
   "outputs": [],
   "source": [
    "NDVI_last_20_per_year = NDVI.groupby(\"Year\").tail(20)\n",
    "NDVI_last_20_per_year"
   ]
  },
  {
   "cell_type": "code",
   "execution_count": null,
   "id": "7be13ed5",
   "metadata": {},
   "outputs": [],
   "source": [
    "# Pytorch Dataset\n",
    "\n",
    "\n",
    "class Dataset(torch.utils.data.Dataset):\n",
    "    def __init__(self, ndvi_df, prod_df):\n",
    "        self.ndvi_df = ndvi_df\n",
    "        self.prod_df = prod_df\n",
    "\n",
    "    def __len__(self):\n",
    "        return self.ndvi_df[\"Year\"].nunique()\n",
    "\n",
    "    def __getitem__(self, idx):\n",
    "        years = self.ndvi_df[\"Year\"].sort_values().unique()\n",
    "        if idx >= len(years):\n",
    "            raise IndexError(\"Index out of range\")\n",
    "        year = years[idx]\n",
    "        ndvi = self.ndvi_df[self.ndvi_df[\"Year\"] == year][\"NDVI\"].values\n",
    "        prod = self.prod_df[self.prod_df[\"Year\"] == year][\n",
    "            \"Productivity (kg/ha)\"\n",
    "        ].values[0]\n",
    "        return torch.tensor(ndvi, dtype=torch.float32), torch.tensor(\n",
    "            prod, dtype=torch.float32\n",
    "        )\n",
    "\n",
    "\n",
    "dataset = Dataset(NDVI_last_20_per_year, PROD)\n",
    "dataset[0]\n",
    "\n",
    "train_size = int(0.8 * len(dataset))\n",
    "test_size = len(dataset) - train_size\n",
    "train_dataset, test_dataset = torch.utils.data.random_split(\n",
    "    dataset, [train_size, test_size]\n",
    ")"
   ]
  },
  {
   "cell_type": "markdown",
   "id": "f4b8b975",
   "metadata": {},
   "source": [
    "## 3. Model creation"
   ]
  },
  {
   "cell_type": "code",
   "execution_count": null,
   "id": "8f4442be",
   "metadata": {},
   "outputs": [],
   "source": [
    "ff_network = nn.Sequential(\n",
    "    nn.Linear(20, 50),\n",
    "    nn.ReLU(),\n",
    "    nn.Linear(50, 20),\n",
    "    nn.ReLU(),\n",
    "    nn.Linear(20, 1),\n",
    "    nn.ReLU(),\n",
    ")\n",
    "ff_network = ff_network.to(device)\n",
    "optimizer = optim.Adam(ff_network.parameters(), lr=0.01)\n",
    "loss_fn = nn.MSELoss()\n",
    "\n",
    "losses = []\n",
    "for i in range(500):\n",
    "    epoch_losses = []\n",
    "    for ndvi, prod in train_dataset:\n",
    "        ndvi = ndvi.to(device)\n",
    "        prod = prod.to(device)\n",
    "        optimizer.zero_grad()\n",
    "        pred = ff_network(ndvi)\n",
    "        loss = loss_fn(pred, prod)\n",
    "        loss.backward()\n",
    "        optimizer.step()\n",
    "        epoch_losses.append(loss.item())\n",
    "    losses.append(np.mean(epoch_losses))"
   ]
  },
  {
   "cell_type": "code",
   "execution_count": null,
   "id": "cf82d284",
   "metadata": {},
   "outputs": [],
   "source": [
    "import matplotlib.pyplot as plt\n",
    "\n",
    "plt.figure(figsize=(10, 6))\n",
    "plt.plot(losses, label=\"Loss\")\n",
    "plt.xlabel(\"Epoch\")\n",
    "plt.ylabel(\"Loss\")\n",
    "plt.title(\"Training Loss Over Epochs\")\n",
    "plt.legend()\n",
    "plt.grid(True)\n",
    "plt.show()"
   ]
  }
 ],
 "metadata": {
  "kernelspec": {
   "display_name": "fiap",
   "language": "python",
   "name": "python3"
  },
  "language_info": {
   "codemirror_mode": {
    "name": "ipython",
    "version": 3
   },
   "file_extension": ".py",
   "mimetype": "text/x-python",
   "name": "python",
   "nbconvert_exporter": "python",
   "pygments_lexer": "ipython3",
   "version": "3.11.9"
  }
 },
 "nbformat": 4,
 "nbformat_minor": 5
}

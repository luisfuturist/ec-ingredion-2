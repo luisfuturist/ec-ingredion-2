{
 "cells": [
  {
   "cell_type": "code",
   "execution_count": 3,
   "metadata": {},
   "outputs": [],
   "source": [
    "from matplotlib import pyplot as plt\n",
    "import pandas as pd\n",
    "import numpy as np\n",
    "import seaborn as sns"
   ]
  },
  {
   "cell_type": "code",
   "execution_count": 4,
   "metadata": {},
   "outputs": [
    {
     "ename": "NameError",
     "evalue": "name 'NDVI_df' is not defined",
     "output_type": "error",
     "traceback": [
      "\u001b[31m---------------------------------------------------------------------------\u001b[39m",
      "\u001b[31mNameError\u001b[39m                                 Traceback (most recent call last)",
      "\u001b[36mCell\u001b[39m\u001b[36m \u001b[39m\u001b[32mIn[4]\u001b[39m\u001b[32m, line 1\u001b[39m\n\u001b[32m----> \u001b[39m\u001b[32m1\u001b[39m ndvi_anual = \u001b[43mNDVI_df\u001b[49m.groupby(\u001b[33m'\u001b[39m\u001b[33mYear\u001b[39m\u001b[33m'\u001b[39m)[\u001b[33m'\u001b[39m\u001b[33mNDVI\u001b[39m\u001b[33m'\u001b[39m].mean().reset_index()\n\u001b[32m      2\u001b[39m ndvi_anual.columns = [\u001b[33m'\u001b[39m\u001b[33mYear\u001b[39m\u001b[33m'\u001b[39m, \u001b[33m'\u001b[39m\u001b[33mNDVI_mean\u001b[39m\u001b[33m'\u001b[39m]\n\u001b[32m      4\u001b[39m df_completo = PROD.merge(ndvi_anual, on=\u001b[33m'\u001b[39m\u001b[33mYear\u001b[39m\u001b[33m'\u001b[39m, how=\u001b[33m'\u001b[39m\u001b[33minner\u001b[39m\u001b[33m'\u001b[39m)\n",
      "\u001b[31mNameError\u001b[39m: name 'NDVI_df' is not defined"
     ]
    }
   ],
   "source": [
    "ndvi_anual = NDVI_df.groupby('Year')['NDVI'].mean().reset_index()\n",
    "ndvi_anual.columns = ['Year', 'NDVI_mean']\n",
    "\n",
    "df_completo = PROD.merge(ndvi_anual, on='Year', how='inner')\n",
    "\n",
    "fig, ax1 = plt.subplots(figsize=(15, 6))\n",
    "\n",
    "ax1.plot(df_completo['Year'], df_completo['Production (kg)'], color='blue', marker='o', label='Produção')\n",
    "ax1.set_xlabel('Ano')\n",
    "ax1.set_ylabel('Produção (kg)', color='blue')\n",
    "ax1.tick_params(axis='y', labelcolor='blue')\n",
    "\n",
    "ax2 = ax1.twinx()\n",
    "ax2.plot(df_completo['Year'], df_completo['Area (ha)'], color='red', marker='s', linestyle='--', label='Área')\n",
    "ax2.set_ylabel('Área (ha)', color='red')\n",
    "ax2.tick_params(axis='y', labelcolor='red')\n",
    "\n",
    "ax3 = ax1.twinx()\n",
    "ax3.spines['right'].set_position(('outward', 60))\n",
    "ax3.plot(df_completo['Year'], df_completo['NDVI_mean'], color='green', marker='^', linestyle='-.', label='NDVI')\n",
    "ax3.set_ylabel('NDVI Médio', color='green')\n",
    "ax3.tick_params(axis='y', labelcolor='green')\n",
    "\n",
    "fig.legend(loc='upper left', bbox_to_anchor=(0.1, 0.9))\n",
    "plt.title('Produção, Área e NDVI ao Longo do Tempo')\n",
    "plt.show()"
   ]
  },
  {
   "cell_type": "code",
   "execution_count": null,
   "metadata": {},
   "outputs": [],
   "source": [
    "plt.figure(figsize=(12, 4))\n",
    "sns.boxplot(data=df_completo[['NDVI_mean', 'Area (ha)', 'Production (kg)']])\n",
    "plt.title('Distribuição das Variáveis (Identificação de Outliers)')\n",
    "plt.xticks(rotation=45)\n",
    "plt.show()"
   ]
  },
  {
   "cell_type": "code",
   "execution_count": null,
   "metadata": {},
   "outputs": [],
   "source": [
    "print(\"Dados faltantes por variável:\")\n",
    "print(df_completo[['Year', 'NDVI_mean', 'Area (ha)', 'Production (kg)']].isnull().sum())"
   ]
  },
  {
   "cell_type": "code",
   "execution_count": null,
   "metadata": {},
   "outputs": [],
   "source": [
    "correlacoes = df_completo[['NDVI_mean', 'Area (ha)', 'Production (kg)']].corr(method='spearman')\n",
    "\n",
    "plt.figure(figsize=(8, 6))\n",
    "sns.heatmap(correlacoes, annot=True, cmap='coolwarm', fmt=\".2f\")\n",
    "plt.title('Correlações entre NDVI, Área e Produção')\n",
    "plt.show()"
   ]
  },
  {
   "cell_type": "code",
   "execution_count": null,
   "metadata": {},
   "outputs": [],
   "source": [
    "from mpl_toolkits.mplot3d import Axes3D\n",
    "\n",
    "fig = plt.figure(figsize=(12, 8))\n",
    "ax = fig.add_subplot(111, projection='3d')\n",
    "ax.scatter(\n",
    "    df_completo['NDVI_mean'],\n",
    "    df_completo['Area (ha)'],\n",
    "    df_completo['Production (kg)'],\n",
    "    c=df_completo['Production (kg)'],\n",
    "    cmap='viridis'\n",
    ")\n",
    "ax.set_xlabel('NDVI')\n",
    "ax.set_ylabel('Área (ha)')\n",
    "ax.set_zlabel('Produção (kg)')\n",
    "plt.title('Relação entre NDVI, Área e Produção')\n",
    "plt.show()"
   ]
  },
  {
   "cell_type": "code",
   "execution_count": null,
   "metadata": {},
   "outputs": [],
   "source": [
    "plt.figure(figsize=(10, 8))\n",
    "contour = sns.kdeplot(\n",
    "    x=df_completo['Area (ha)'], \n",
    "    y=df_completo['NDVI_mean'], \n",
    "    fill=True, \n",
    "    thresh=0,\n",
    "    levels=10,\n",
    "    cmap='rocket',\n",
    "    alpha=0.7\n",
    ")\n",
    "plt.scatter(\n",
    "    x=df_completo['Area (ha)'], \n",
    "    y=df_completo['NDVI_mean'], \n",
    "    c=df_completo['Production (kg)'],\n",
    "    s=30,\n",
    "    cmap='viridis',\n",
    "    edgecolor='black'\n",
    ")\n",
    "plt.colorbar(label='Produção (kg)')\n",
    "plt.title('Densidade de Produção: NDVI vs Área', fontsize=14)\n",
    "plt.xlabel('Área (ha)', fontsize=12)\n",
    "plt.ylabel('NDVI', fontsize=12)\n",
    "plt.show()`"
   ]
  }
 ],
 "metadata": {
  "kernelspec": {
   "display_name": ".venv",
   "language": "python",
   "name": "python3"
  },
  "language_info": {
   "codemirror_mode": {
    "name": "ipython",
    "version": 3
   },
   "file_extension": ".py",
   "mimetype": "text/x-python",
   "name": "python",
   "nbconvert_exporter": "python",
   "pygments_lexer": "ipython3",
   "version": "3.13.2"
  }
 },
 "nbformat": 4,
 "nbformat_minor": 2
}
